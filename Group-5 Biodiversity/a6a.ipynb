{
 "cells": [
  {
   "attachments": {},
   "cell_type": "markdown",
   "metadata": {},
   "source": [
    "#### Importing the Libraries"
   ]
  },
  {
   "cell_type": "code",
   "execution_count": 363,
   "metadata": {},
   "outputs": [],
   "source": [
    "import altair as alt\n",
    "import pandas as pd"
   ]
  },
  {
   "attachments": {},
   "cell_type": "markdown",
   "metadata": {},
   "source": [
    "#### Loading the Data"
   ]
  },
  {
   "cell_type": "code",
   "execution_count": 364,
   "metadata": {},
   "outputs": [],
   "source": [
    "alt.data_transformers.disable_max_rows()\n",
    "df = pd.read_csv('filtered_inaturalist.csv')\n",
    "\n",
    "# Leave following three lines commented to keep all 142k rows\n",
    "# df = df[df['Class'] == 'Magnoliopsida'] # 55k rows\n",
    "# df = df[df['Order'] == 'Sapindales'] # 3k rows\n",
    "# df = df[df['Genus'] == 'Acer'] # 1300 rows\n",
    "\n",
    "# # Viewed more easily within the notebook, but cannot be exported\n",
    "# df = 'filtered_inaturalist.csv'\n",
    "# alt.data_transformers.enable('csv')"
   ]
  },
  {
   "attachments": {},
   "cell_type": "markdown",
   "metadata": {},
   "source": [
    "#### Setting the Dimensions"
   ]
  },
  {
   "cell_type": "code",
   "execution_count": 365,
   "metadata": {},
   "outputs": [],
   "source": [
    "xmin = df['Longitude'].min()\n",
    "xmax = df['Longitude'].max()\n",
    "ymin = df['Latitude'].min()\n",
    "ymax = df['Latitude'].max()\n",
    "\n",
    "ratio = (xmax - xmin) / (ymax - ymin)\n",
    "\n",
    "height = 200\n",
    "geoscalar = 1.2 # Amount to scale the size of the geographical distribution\n",
    "width = height * ratio # Multiply by ratio for equirectangular maps"
   ]
  },
  {
   "attachments": {},
   "cell_type": "markdown",
   "metadata": {},
   "source": [
    "#### Creating the Chart Parameters"
   ]
  },
  {
   "cell_type": "code",
   "execution_count": 366,
   "metadata": {},
   "outputs": [],
   "source": [
    "# Selection box drawn across scatterplot\n",
    "brush = alt.selection_interval()\n",
    "\n",
    "taxa = ['Kingdom', 'Phylum', 'Subphylum', 'Class', 'Order', 'Genus', 'Species']\n",
    "\n",
    "# Dropdown menu to select the taxon level to be measured\n",
    "measure_taxon_prm = alt.selection_point(\n",
    "    fields = ['measure_taxon'],\n",
    "    value = 'Genus', # Default value\n",
    "    bind = alt.binding_select(\n",
    "        options = taxa,\n",
    "        name = 'Measure Taxon: '\n",
    "    )\n",
    ")\n",
    "\n",
    "# Dropdown menu to select the taxon level to which to apply the filter\n",
    "filter_taxon_prm = alt.selection_point(\n",
    "    fields = ['filter_taxon'],\n",
    "    value = 'Class', # Default value\n",
    "    bind = alt.binding_select(\n",
    "        options = taxa[:-1],\n",
    "        name = 'Filter Taxon: '\n",
    "    )\n",
    ")\n",
    "\n",
    "# Search box to filter values at the specified taxon level\n",
    "filter_value_prm = alt.param(\n",
    "    value = 'Magnoliopsida', # Default value\n",
    "    bind = alt.binding(\n",
    "        input = 'search',\n",
    "        placeholder = 'Search',\n",
    "        name = 'Filter Value: '\n",
    "    )\n",
    ")\n",
    "\n",
    "# Max value slider for the histogram that I have commented out of implementation\n",
    "hist_range_prm = alt.param(\n",
    "    value = 1, # Default value\n",
    "    bind = alt.binding_range(\n",
    "        min = 0, max = 1, # Represents 0% to 100% of x-axis length (logarithmic)\n",
    "        name = 'Histogram Ceiling: '\n",
    "    )\n",
    ")"
   ]
  },
  {
   "attachments": {},
   "cell_type": "markdown",
   "metadata": {},
   "source": [
    "#### Creating the Base Chart"
   ]
  },
  {
   "cell_type": "code",
   "execution_count": 367,
   "metadata": {},
   "outputs": [],
   "source": [
    "# Base chart involving data, dimensions, and measure/filter parameters\n",
    "base = alt.Chart(df).properties(\n",
    "    height = height, width = height\n",
    ").transform_fold( # Creating new measure taxon column\n",
    "    taxa, as_ = ['measure_taxon', 'measure_value']\n",
    ").transform_fold( # Creating new filter taxon column\n",
    "    taxa[:-1], as_ = ['filter_taxon', 'filter_value']\n",
    ").transform_filter( # Selecting the measure and filter taxa\n",
    "    measure_taxon_prm & filter_taxon_prm\n",
    ").transform_filter( # Applying the filter as according to the filter taxon and value\n",
    "    alt.expr.test(alt.expr.regexp(filter_value_prm, 'i'), alt.datum.filter_value)\n",
    ")"
   ]
  },
  {
   "attachments": {},
   "cell_type": "markdown",
   "metadata": {},
   "source": [
    "#### Creating the Scatterplot (Map)"
   ]
  },
  {
   "cell_type": "code",
   "execution_count": 368,
   "metadata": {},
   "outputs": [],
   "source": [
    "scatter = base.add_params( # All of the physical parameters are on this chart only\n",
    "    brush, filter_taxon_prm, filter_value_prm, measure_taxon_prm\n",
    ").mark_point(\n",
    "    filled = True,\n",
    "    size = height / 150, # You can change the point size depending on the spread\n",
    "    opacity = 0.8\n",
    ").encode( # Pretending X/Y are Lat/Long because otherwise linking fails because Altair Moment™\n",
    "    x = alt.X('Longitude:Q', axis = None, scale = alt.Scale(domain = [xmin, xmax])),\n",
    "    y = alt.Y('Latitude:Q', axis = None, scale = alt.Scale(domain = [ymin, ymax])),\n",
    "    color = alt.condition(brush, 'measure_value:N', alt.value('darkgray'), legend = None)\n",
    ").properties( # Making the width match an equirectangular map\n",
    "    height = height * geoscalar, width = width * geoscalar,\n",
    "    title = 'Geographical Distribution'\n",
    ")"
   ]
  },
  {
   "attachments": {},
   "cell_type": "markdown",
   "metadata": {},
   "source": [
    "#### Creating the Base Chart for Measuring Taxon Size"
   ]
  },
  {
   "cell_type": "code",
   "execution_count": 369,
   "metadata": {},
   "outputs": [],
   "source": [
    "countbase = base.transform_filter(\n",
    "    brush\n",
    ").transform_filter(\n",
    "    'isValid(datum.measure_value) & datum.measure_value != \\'\\''\n",
    ").transform_aggregate(\n",
    "    count = 'count()', groupby = ['measure_value']\n",
    ")"
   ]
  },
  {
   "attachments": {},
   "cell_type": "markdown",
   "metadata": {},
   "source": [
    "#### Creating the Bar Chart"
   ]
  },
  {
   "cell_type": "code",
   "execution_count": 370,
   "metadata": {},
   "outputs": [],
   "source": [
    "bars = countbase.transform_joinaggregate(\n",
    "    sum = 'sum(count)'\n",
    ").transform_calculate( # Converting count to percentage share\n",
    "    percentage = 'datum.count / datum.sum'\n",
    ").transform_window( # Ranking the bars in order to limit them\n",
    "    rank = 'rank(count)',\n",
    "    sort = [alt.SortField('count', order = 'descending')]\n",
    ").transform_filter( # Limiting the number of bars\n",
    "    alt.datum.rank <= 10\n",
    ").encode(\n",
    "        x = alt.X(\n",
    "        'percentage:Q',\n",
    "        title = 'Percentage Share',\n",
    "        axis = alt.Axis( # Displays integer axis ticks only, as percentages\n",
    "            labelExpr = '(datum.value * 100) % 1 ? null : format(datum.label, \\'.0%\\')'\n",
    "        )\n",
    "    ),\n",
    "    y = alt.Y(\n",
    "        'measure_value:N',\n",
    "        sort = '-x', # Sorting bars in descending order\n",
    "        title = None\n",
    "    ),\n",
    "    text = alt.Text('percentage:Q', format = '.1%'),\n",
    "    tooltip = [alt.Tooltip('count:Q', title = 'Population Size')]\n",
    ").properties(\n",
    "    title = 'Top 10 Taxa By Regional Frequency'\n",
    ")\n",
    "\n",
    "bars = bars.mark_bar().encode(\n",
    "    color = alt.Color('measure_value:N', legend = None)\n",
    ") + bars.mark_text(align = 'left', dx = 2)"
   ]
  },
  {
   "attachments": {},
   "cell_type": "markdown",
   "metadata": {},
   "source": [
    "#### Creating the Histogram"
   ]
  },
  {
   "cell_type": "code",
   "execution_count": 371,
   "metadata": {},
   "outputs": [],
   "source": [
    "hist = countbase.transform_calculate(\n",
    "    logct = 'log(datum.count) / log(10)'\n",
    "# ).transform_joinaggregate(\n",
    "#     logmax = 'max(logct)'\n",
    "# ).transform_calculate(\n",
    "#     logperc = 'datum.logct / datum.logmax'\n",
    "# ).add_params(\n",
    "#     hist_range_prm\n",
    "# ).transform_filter(\n",
    "#     # Stack Overflow said this was impossible\n",
    "#     # Who's laughing now? Not me I have no sanity left this took 5 hours\n",
    "#     f'{alt.datum.logperc} <= {hist_range_prm.name}'\n",
    ").encode(\n",
    "    x = alt.X( # Logarithmic axis makes most sense for population size\n",
    "        'logct:Q',\n",
    "        title = 'Population Size',\n",
    "        bin = alt.Bin(maxbins = 16), # Modify bin size as looks best\n",
    "        axis = alt.Axis( # Displaying integer ticks as exponents\n",
    "            labelExpr = 'datum.value % 1 ? null : \\'10^\\' + format(datum.label, \\'.0f\\')'\n",
    "        )\n",
    "    ),\n",
    "    y = alt.Y(\n",
    "        'count():Q',\n",
    "        title = 'Number of Taxa',\n",
    "        axis = alt.Axis( # Displays integer axis ticks only\n",
    "            labelExpr = 'datum.value % 1 ? null : format(datum.label, \\'.0f\\')'\n",
    "        )\n",
    "    ),\n",
    "    # color = alt.Color('measure_value:N', legend = None),\n",
    "    # tooltip = [\n",
    "    #     alt.Tooltip('measure_value:N', title = 'Taxon Name'),\n",
    "    #     alt.Tooltip('count:Q', title = 'Population Size')\n",
    "    # ]\n",
    ").properties(\n",
    "    title = 'Distribution of Taxon Size'\n",
    ").mark_bar()"
   ]
  },
  {
   "attachments": {},
   "cell_type": "markdown",
   "metadata": {},
   "source": [
    "#### Creating the Map Background"
   ]
  },
  {
   "cell_type": "code",
   "execution_count": 372,
   "metadata": {},
   "outputs": [],
   "source": [
    "# Do I really need to cite this if I modelled this after the documentation?\n",
    "# Source: https://altair-viz.github.io/user_guide/marks/geoshape.html\n",
    "geobounds = alt.Feature(\n",
    "    type = 'Feature',\n",
    "    properties = {},\n",
    "    geometry = alt.Geometry(\n",
    "        alt.Polygon(\n",
    "            type = 'Polygon',\n",
    "            coordinates = [[\n",
    "                [xmax, ymax],\n",
    "                [xmax, ymin],\n",
    "                [xmin, ymin],\n",
    "                [xmin, ymax],\n",
    "                [xmax, ymax]\n",
    "            ]]\n",
    "        )\n",
    "    )\n",
    ")\n",
    "\n",
    "# The following code is taken from the Altair Tutorial done in class on 5/23/23\n",
    "boston_url = 'https://raw.githubusercontent.com/lsouth/DS4200/main/Boston_Neighborhoods.json'\n",
    "boston = alt.topo_feature(boston_url, feature = 'Boston_Neighborhoods')\n",
    "\n",
    "# Geoshape of Boston to serve as a background for the scatterplot\n",
    "boston_map = alt.Chart(boston).mark_geoshape(\n",
    "    fill = 'lightgray',\n",
    "    stroke = 'white',\n",
    "    clip = True\n",
    ").encode(\n",
    "    tooltip = 'properties.Name:N'\n",
    ").project(\n",
    "    type = 'equirectangular',\n",
    "    fit = geobounds\n",
    ").properties(\n",
    "    height = height * geoscalar,\n",
    "    width = width * geoscalar\n",
    ")\n",
    "\n",
    "# Overlaying the scatterplot onto the map\n",
    "scatter = boston_map + scatter"
   ]
  },
  {
   "attachments": {},
   "cell_type": "markdown",
   "metadata": {},
   "source": [
    "#### Exporting the Visualization"
   ]
  },
  {
   "cell_type": "code",
   "execution_count": 373,
   "metadata": {},
   "outputs": [],
   "source": [
    "chart = alt.vconcat(scatter, (bars | hist))\n",
    "chart.save('inatvis.html')"
   ]
  }
 ],
 "metadata": {
  "kernelspec": {
   "display_name": "Python 3",
   "language": "python",
   "name": "python3"
  },
  "language_info": {
   "codemirror_mode": {
    "name": "ipython",
    "version": 3
   },
   "file_extension": ".py",
   "mimetype": "text/x-python",
   "name": "python",
   "nbconvert_exporter": "python",
   "pygments_lexer": "ipython3",
   "version": "3.11.1"
  },
  "orig_nbformat": 4
 },
 "nbformat": 4,
 "nbformat_minor": 2
}
