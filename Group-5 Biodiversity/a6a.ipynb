{
 "cells": [
  {
   "attachments": {},
   "cell_type": "markdown",
   "metadata": {},
   "source": [
    "#### Importing the Libraries"
   ]
  },
  {
   "cell_type": "code",
   "execution_count": 739,
   "metadata": {},
   "outputs": [],
   "source": [
    "import altair as alt\n",
    "import pandas as pd"
   ]
  },
  {
   "attachments": {},
   "cell_type": "markdown",
   "metadata": {},
   "source": [
    "#### Loading the Data"
   ]
  },
  {
   "cell_type": "code",
   "execution_count": 740,
   "metadata": {},
   "outputs": [],
   "source": [
    "alt.data_transformers.disable_max_rows()\n",
    "df = pd.read_csv('filtered_inaturalist.csv')\n",
    "\n",
    "# Leave following three lines commented to keep all 142k rows\n",
    "# df = df[df['Class'] == 'Magnoliopsida'] # 55k rows\n",
    "# df = df[df['Order'] == 'Asterales'] # 10k rows\n",
    "# df = df[df['Genus'] == 'Acer'] # 1300 rows\n",
    "\n",
    "# # Viewed more easily within the notebook, but cannot be exported\n",
    "# df = 'filtered_inaturalist.csv'\n",
    "# alt.data_transformers.enable('csv')"
   ]
  },
  {
   "attachments": {},
   "cell_type": "markdown",
   "metadata": {},
   "source": [
    "#### Loading Mass Ave Corridor Data"
   ]
  },
  {
   "cell_type": "code",
   "execution_count": 741,
   "metadata": {},
   "outputs": [],
   "source": [
    "# Line from one end to the other of Mass Ave Corridor\n",
    "mass_ave_corridor = pd.DataFrame({\n",
    "    'Latitude': [42.342770, 42.340637, 42.339316, 42.334992], # 42.331998, 42.320507],\n",
    "    'Longitude': [-71.084953, -71.081745,  -71.080351, -71.075119] # -71.071242,  -71.061502]\n",
    "})\n",
    "\n",
    "center = [ # Center of Mass Ave Corridor\n",
    "    mass_ave_corridor['Latitude'].mean(),\n",
    "    mass_ave_corridor['Longitude'].mean()\n",
    "]"
   ]
  },
  {
   "attachments": {},
   "cell_type": "markdown",
   "metadata": {},
   "source": [
    "#### Setting the Dimensions"
   ]
  },
  {
   "cell_type": "code",
   "execution_count": 742,
   "metadata": {},
   "outputs": [
    {
     "name": "stdout",
     "output_type": "stream",
     "text": [
      "-71.18998434 -70.87663262 42.23185 42.39328\n"
     ]
    }
   ],
   "source": [
    "# Normal data bounds\n",
    "xmin = df['Longitude'].min()\n",
    "xmax = df['Longitude'].max()\n",
    "ymin = df['Latitude'].min()\n",
    "ymax = df['Latitude'].max()\n",
    "\n",
    "print(xmin, xmax, ymin, ymax)\n",
    "\n",
    "latRange = 0.02 # Latitude range for the map. Longitude range is double\n",
    "xmin = max(xmin, center[1] - latRange)\n",
    "xmax = min(xmax, center[1] + latRange)\n",
    "ymin = max(ymin, center[0] - latRange / 2)\n",
    "ymax = min(ymax, center[0] + latRange / 2)\n",
    "\n",
    "# Filter out-of-bounds data\n",
    "df = df[df['Latitude'].between(ymin, ymax) & df['Longitude'].between(xmin, xmax)]\n",
    "\n",
    "ratio = (xmax - xmin) / (ymax - ymin)\n",
    "\n",
    "height = 200\n",
    "geoscalar = 1.2 # Amount to scale the size of the geographical distribution\n",
    "width = height * ratio # Multiply by ratio for equirectangular maps"
   ]
  },
  {
   "attachments": {},
   "cell_type": "markdown",
   "metadata": {},
   "source": [
    "#### Creating the Chart Parameters"
   ]
  },
  {
   "cell_type": "code",
   "execution_count": 743,
   "metadata": {},
   "outputs": [],
   "source": [
    "# Selection box drawn across scatterplot\n",
    "brush = alt.selection_interval()\n",
    "\n",
    "taxa = ['Kingdom', 'Phylum', 'Subphylum', 'Class', 'Order', 'Family', 'Genus', 'Species']\n",
    "\n",
    "# Dropdown menu to select the taxon level to be measured\n",
    "measure_taxon_prm = alt.param(\n",
    "    value = 'Genus', # Default value\n",
    "    bind = alt.binding_select(\n",
    "        options = taxa,\n",
    "        name = 'Measure Taxon: '\n",
    "    )\n",
    ")\n",
    "\n",
    "# Dropdown menu to select the taxon level to which to apply the filter\n",
    "filter_taxon_prm = alt.param(\n",
    "    value = 'Class', # Default value\n",
    "    bind = alt.binding_select(\n",
    "        options = taxa[:-1],\n",
    "        name = 'Filter Taxon: '\n",
    "    )\n",
    ")\n",
    "\n",
    "# Search box to filter values at the specified taxon level\n",
    "filter_value_prm = alt.param(\n",
    "    value = 'Magnoliopsida', # Default value\n",
    "    bind = alt.binding(\n",
    "        input = 'search',\n",
    "        placeholder = 'Search',\n",
    "        name = 'Filter Value: '\n",
    "    )\n",
    ")\n",
    "\n",
    "# Max value slider for the histogram that I have commented out of implementation\n",
    "hist_range_prm = alt.param(\n",
    "    value = 1, # Default value\n",
    "    bind = alt.binding_range(\n",
    "        min = 0, max = 1, # Represents 0% to 100% of x-axis length (logarithmic)\n",
    "        name = 'Histogram Ceiling: '\n",
    "    )\n",
    ")\n",
    "\n",
    "# Slider for number of bars in bar chart\n",
    "bar_slider_prm = alt.param(\n",
    "    value = 1,\n",
    "    bind = alt.binding_range(\n",
    "        min = 1, max = 90, step = 1,\n",
    "        name = 'Bar Chart Rank: '\n",
    "    )\n",
    ")"
   ]
  },
  {
   "attachments": {},
   "cell_type": "markdown",
   "metadata": {},
   "source": [
    "#### Creating the Expression for Pluralizing Taxa"
   ]
  },
  {
   "cell_type": "code",
   "execution_count": 744,
   "metadata": {},
   "outputs": [],
   "source": [
    "plurals = {\n",
    "    'phylum': 'phyla',\n",
    "    'class': 'classes',\n",
    "    'genus': 'genera',\n",
    "    'species': 'species'\n",
    "}\n",
    "\n",
    "plexpr = '{} + \"s\"'\n",
    "for k, v, in plurals.items():\n",
    "    plexpr = f'if(test(/{k}$/, {{}}), replace({{}}, /{k}$/, \"{v}\"), {plexpr})'\n",
    "plexpr = plexpr.replace('{}', 'lower({})')\n",
    "\n",
    "def pluralTaxon(param = measure_taxon_prm, proper = True):\n",
    "    global plexpr\n",
    "    if proper:\n",
    "        plexpr = f'upper(slice({plexpr}, 0, 1)) + slice({plexpr}, 1)'\n",
    "    return plexpr.replace('{}', param.name)"
   ]
  },
  {
   "attachments": {},
   "cell_type": "markdown",
   "metadata": {},
   "source": [
    "#### Creating the Base Chart"
   ]
  },
  {
   "cell_type": "code",
   "execution_count": 745,
   "metadata": {},
   "outputs": [],
   "source": [
    "# Base chart involving data, dimensions, and measure/filter parameters\n",
    "base = alt.Chart(df).add_params(\n",
    "    measure_taxon_prm, filter_taxon_prm, filter_value_prm\n",
    ").properties(\n",
    "    height = height, width = height\n",
    ").transform_calculate(\n",
    "    measure_taxon = f'datum[{measure_taxon_prm.name}]',\n",
    "    filter_taxon = f'datum[{filter_taxon_prm.name}]'\n",
    ").transform_filter( # Applying the filter as according to the filter taxon and value\n",
    "    alt.expr.test(alt.expr.regexp(filter_value_prm, 'i'), alt.datum.filter_taxon)\n",
    ")\n",
    "\n",
    "# The color to use throughout the visualization\n",
    "color = alt.Color('measure_taxon:N', scale = alt.Scale(scheme = 'category20'), legend = None)"
   ]
  },
  {
   "attachments": {},
   "cell_type": "markdown",
   "metadata": {},
   "source": [
    "#### Creating the Scatterplot (Map)"
   ]
  },
  {
   "cell_type": "code",
   "execution_count": 746,
   "metadata": {},
   "outputs": [],
   "source": [
    "scatter = base.add_params(brush).mark_point(\n",
    "    filled = True,\n",
    "    size = height / 40, # You can change the point size depending on the spread\n",
    "    opacity = 0.9\n",
    ").encode( # Pretending X/Y are Lat/Long because otherwise linking fails because Altair Moment™\n",
    "    x = alt.X('Longitude:Q', axis = None, scale = alt.Scale(domain = [xmin, xmax])),\n",
    "    y = alt.Y('Latitude:Q', axis = None, scale = alt.Scale(domain = [ymin, ymax])),\n",
    "    color = alt.condition(brush, color, alt.value('darkgray'))\n",
    ").properties( # Making the width match an equirectangular map\n",
    "    height = height * geoscalar, width = width * geoscalar,\n",
    "    title = alt.Title(\n",
    "        alt.expr(f'\"Geographical Distribution of \" + {pluralTaxon()}'),\n",
    "        subtitle = 'Mass Ave Corridor is highlighted in black'\n",
    "    )\n",
    ")"
   ]
  },
  {
   "attachments": {},
   "cell_type": "markdown",
   "metadata": {},
   "source": [
    "#### Creating the Base Chart for Measuring Taxon Size"
   ]
  },
  {
   "cell_type": "code",
   "execution_count": 747,
   "metadata": {},
   "outputs": [],
   "source": [
    "countbase = base.transform_filter(\n",
    "    brush & 'isValid(datum.measure_taxon)'\n",
    ").transform_aggregate(\n",
    "    count = 'count()', groupby = ['measure_taxon']\n",
    ").transform_joinaggregate(\n",
    "    sum = 'sum(count)'\n",
    ").transform_calculate( # Converting count to percentage share\n",
    "    percentage = 'datum.count / datum.sum'\n",
    ").transform_calculate( # Tooltip for percentage\n",
    "    percent_text = 'replace(format(datum.percentage, \".1%\"), \"0.0%\", \"< 0.1%\")'\n",
    ").transform_window( # Ranking the bars in order to limit them\n",
    "    row_number = 'row_number(count)',\n",
    "    sort = [alt.SortField('count', order = 'descending')]\n",
    ").encode(\n",
    "    tooltip = [\n",
    "        alt.Tooltip('measure_taxon:N', title = 'Taxon Name'),\n",
    "        alt.Tooltip('count:Q', title = 'Population Size'),\n",
    "        alt.Tooltip('percent_text:N', title = 'Percentage of Total')\n",
    "    ]\n",
    ")"
   ]
  },
  {
   "attachments": {},
   "cell_type": "markdown",
   "metadata": {},
   "source": [
    "#### Creating the Bar Chart"
   ]
  },
  {
   "cell_type": "code",
   "execution_count": 748,
   "metadata": {},
   "outputs": [],
   "source": [
    "barbase = countbase.add_params(\n",
    "    bar_slider_prm\n",
    ").transform_filter( # Limiting the number of bars\n",
    "    f'{alt.datum.row_number} >= {bar_slider_prm.name} & {alt.datum.row_number} < {bar_slider_prm.name} + 10'\n",
    ").encode(\n",
    "    x = alt.X(\n",
    "        'percentage:Q',\n",
    "        title = 'Percentage of Total',\n",
    "        axis = alt.Axis( # Displays integer axis ticks only, as percentages\n",
    "            labelExpr = '(datum.value * 100) % 1 ? null : format(datum.label, \".0%\")',\n",
    "            grid = False\n",
    "        )\n",
    "    ),\n",
    "    y = alt.Y(\n",
    "        'measure_taxon:N',\n",
    "        axis = alt.Axis(labelLimit = 72),\n",
    "        sort = '-x', # Sorting bars in descending order\n",
    "        title = None\n",
    "    ),\n",
    "    text = 'percent_text:N'\n",
    ").properties(\n",
    "    title = alt.Title(\n",
    "        alt.expr(f'\"Most Popular \" + {pluralTaxon()} + \" (Showing \" + ' +\\\n",
    "                 f'{bar_slider_prm.name} + \"-\" + ({bar_slider_prm.name} + 9) + \")\"')\n",
    "    )\n",
    ")\n",
    "\n",
    "bars = barbase.mark_bar().encode(\n",
    "    color = color\n",
    ") + barbase.mark_text(align = 'left', dx = 2)"
   ]
  },
  {
   "attachments": {},
   "cell_type": "markdown",
   "metadata": {},
   "source": [
    "#### Creating the Histogram"
   ]
  },
  {
   "cell_type": "code",
   "execution_count": 749,
   "metadata": {},
   "outputs": [],
   "source": [
    "hist = countbase.transform_calculate(\n",
    "    logct = 'log(datum.count) / log(10)'\n",
    "# ).transform_joinaggregate(\n",
    "#     logmax = 'max(logct)'\n",
    "# ).transform_calculate(\n",
    "#     logperc = 'datum.logct / datum.logmax'\n",
    "# ).add_params(\n",
    "#     hist_range_prm\n",
    "# ).transform_filter(\n",
    "#     f'{alt.datum.logperc} <= {hist_range_prm.name}'\n",
    ").encode(\n",
    "    x = alt.X( # Logarithmic axis makes most sense for population size\n",
    "        'logct:Q',\n",
    "        title = 'Population Size (Logarithmic)',\n",
    "        bin = alt.Bin(maxbins = 16), # Modify bin size as looks best\n",
    "        axis = alt.Axis( # Displaying integer ticks as exponents\n",
    "            labelExpr = 'datum.value % 1 ? null : \"10^\" + format(datum.label, \".0f\")'\n",
    "        )\n",
    "    ),\n",
    "    y = alt.Y(\n",
    "        'count():Q',\n",
    "        title = 'Number of Taxa',\n",
    "        axis = alt.Axis( # Displays integer axis ticks only\n",
    "            labelExpr = 'datum.value % 1 ? null : format(datum.label, \".0f\")'\n",
    "        )\n",
    "    ),\n",
    "    color = color\n",
    ").properties(\n",
    "    title = alt.Title(alt.expr(f'\"Distribution of \" + {measure_taxon_prm.name} + \" Size\"')),\n",
    ").mark_bar()"
   ]
  },
  {
   "attachments": {},
   "cell_type": "markdown",
   "metadata": {},
   "source": [
    "#### Setting Map Bounds"
   ]
  },
  {
   "cell_type": "code",
   "execution_count": 750,
   "metadata": {},
   "outputs": [],
   "source": [
    "# Do I really need to cite this if I modelled this after the documentation?\n",
    "# Source: https://altair-viz.github.io/user_guide/marks/geoshape.html\n",
    "geobounds = alt.Feature(\n",
    "    type = 'Feature',\n",
    "    properties = {},\n",
    "    geometry = alt.Geometry(\n",
    "        alt.Polygon(\n",
    "            type = 'Polygon',\n",
    "            coordinates = [[\n",
    "                [xmax, ymax],\n",
    "                [xmax, ymin],\n",
    "                [xmin, ymin],\n",
    "                [xmin, ymax],\n",
    "                [xmax, ymax]\n",
    "            ]]\n",
    "        )\n",
    "    )\n",
    ")"
   ]
  },
  {
   "attachments": {},
   "cell_type": "markdown",
   "metadata": {},
   "source": [
    "#### Creating the Map Background(s)"
   ]
  },
  {
   "cell_type": "code",
   "execution_count": 751,
   "metadata": {},
   "outputs": [],
   "source": [
    "# The following code is taken from the Altair Tutorial done in class on 5/23/23\n",
    "\n",
    "# Boston GeoJSON data\n",
    "boston_url = 'https://raw.githubusercontent.com/lsouth/DS4200/main/Boston_Neighborhoods.json'\n",
    "boston = alt.topo_feature(boston_url, feature = 'Boston_Neighborhoods')\n",
    "\n",
    "# Massachusetts GeoJSON data\n",
    "massachusetts = alt.topo_feature('MassTowns.geojson', 'Towns')\n",
    "\n",
    "# Geoshape of Boston to serve as a background for the scatterplot\n",
    "def markgeoshape(feature):\n",
    "    return alt.Chart(feature).mark_geoshape(\n",
    "        fill = '#DFDFDF',\n",
    "        stroke = 'white',\n",
    "        strokeWidth = 2,\n",
    "        clip = True\n",
    "    ).project(\n",
    "        type = 'equirectangular',\n",
    "        fit = geobounds\n",
    "    ).properties(\n",
    "        height = height * geoscalar,\n",
    "        width = width * geoscalar\n",
    "    )\n",
    "\n",
    "# Map of Boston\n",
    "boston_map = markgeoshape(boston).encode(\n",
    "    tooltip = 'properties.Name:N'\n",
    ")\n",
    "\n",
    "# Map of Massachusetts\n",
    "mass_map = markgeoshape(massachusetts)\n",
    "\n",
    "# Line denoting Mass Ave Corridor\n",
    "mac_line = alt.Chart(mass_ave_corridor).encode(\n",
    "    x = alt.X('Longitude:Q', axis = None, scale = alt.Scale(domain = [xmin, xmax])),\n",
    "    y = alt.Y('Latitude:Q', axis = None, scale = alt.Scale(domain = [ymin, ymax])),\n",
    "    color = alt.value('#444444')\n",
    ").mark_line(clip = True)"
   ]
  },
  {
   "attachments": {},
   "cell_type": "markdown",
   "metadata": {},
   "source": [
    "#### Exporting the Visualization"
   ]
  },
  {
   "cell_type": "code",
   "execution_count": 752,
   "metadata": {},
   "outputs": [],
   "source": [
    "# Overlaying the scatterplot onto the map\n",
    "scatterMap = (mass_map + boston_map) + (mac_line + scatter)\n",
    "\n",
    "chart = alt.vconcat(scatterMap, (bars | hist)).configure(background = '#E8FCFF')\n",
    "chart.save('inatvis_demo.html')"
   ]
  }
 ],
 "metadata": {
  "kernelspec": {
   "display_name": "Python 3",
   "language": "python",
   "name": "python3"
  },
  "language_info": {
   "codemirror_mode": {
    "name": "ipython",
    "version": 3
   },
   "file_extension": ".py",
   "mimetype": "text/x-python",
   "name": "python",
   "nbconvert_exporter": "python",
   "pygments_lexer": "ipython3",
   "version": "3.11.1"
  },
  "orig_nbformat": 4
 },
 "nbformat": 4,
 "nbformat_minor": 2
}
